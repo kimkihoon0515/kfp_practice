{
 "cells": [
  {
   "cell_type": "markdown",
   "id": "263158f8-d7ef-4382-91ae-4a1844e424ca",
   "metadata": {},
   "source": [
    "# Client 동기화"
   ]
  },
  {
   "cell_type": "code",
   "execution_count": 169,
   "id": "f7436d5e-fe19-4509-b2de-fdf5f2fc776c",
   "metadata": {},
   "outputs": [
    {
     "name": "stdout",
     "output_type": "stream",
     "text": [
      "[Demo] XGBoost - Iterative model training\n",
      "[Demo] TFX - Taxi tip prediction model trainer\n",
      "[Tutorial] Data passing in python components\n",
      "[Tutorial] DSL - Control structures\n",
      "kf_iris_pipeline\n",
      "http://172.17.0.12:8080/dex/auth/local/login?back=&state=d6u5pi5snk7gz634bwdikbkvm\n",
      "MTY3MjE0NTE0NXxOd3dBTkZSVU1reEdUa3hCVXpaVFVVZEJRVXcyVDBaRk5UWktOalZUV0VkWFVEWkhUVmszUlU5SU56ZFRWbFZOV2xnMlRrWklSRUU9fO8iggyT7WJR2__YsjhgPGBlGnYqS37qZE9cuWd41dJo\n"
     ]
    }
   ],
   "source": [
    "import kfp\n",
    "import requests\n",
    "\n",
    "USERNAME = \"user@example.com\"\n",
    "PASSWORD = \"12341234\"\n",
    "NAMESPACE = \"kubeflow-user-example-com\"\n",
    "HOST = \"http://172.17.0.12:8080\" # istio-ingressgateway pod ip:port\n",
    "\n",
    "session = requests.Session()\n",
    "response = session.get(HOST)\n",
    "\n",
    "headers = {\n",
    "    \"Content-Type\": \"application/x-www-form-urlencoded\",\n",
    "}\n",
    "\n",
    "data = {\"login\": \"user@example.com\", \"password\": \"12341234\"}\n",
    "session.post(response.url, headers=headers, data=data)\n",
    "session_cookie = session.cookies.get_dict()[\"authservice_session\"]\n",
    "\n",
    "client = kfp.Client(\n",
    "    host=f\"{HOST}/pipeline\",\n",
    "    namespace=f\"{NAMESPACE}\",\n",
    "    cookies=f\"authservice_session={session_cookie}\",\n",
    ")\n",
    "list_pipelines = client.list_pipelines()\n",
    "\n",
    "for i in range(list_pipelines.total_size):\n",
    "    print(list_pipelines.pipelines[i].name)\n",
    "print(response.url)\n",
    "print(session_cookie)"
   ]
  },
  {
   "cell_type": "code",
   "execution_count": 170,
   "id": "baae55e2-c478-4428-ae7c-99a77175b672",
   "metadata": {},
   "outputs": [
    {
     "data": {
      "text/plain": [
       "<kfp._client.Client at 0x406ad26c70>"
      ]
     },
     "execution_count": 170,
     "metadata": {},
     "output_type": "execute_result"
    }
   ],
   "source": [
    "client"
   ]
  },
  {
   "cell_type": "markdown",
   "id": "d610e44f-987e-40aa-b891-5d80c5150e63",
   "metadata": {},
   "source": [
    "# Experiment 정보 가져오기"
   ]
  },
  {
   "cell_type": "code",
   "execution_count": 199,
   "id": "06776e58-197a-42dd-bdb8-7143f0ce1e7a",
   "metadata": {},
   "outputs": [],
   "source": [
    "experiment_info = client.get_experiment(experiment_name=\"mnist-pipeline\",namespace=NAMESPACE)"
   ]
  },
  {
   "cell_type": "code",
   "execution_count": 200,
   "id": "4e57a984-fa76-44bb-8762-d98910608396",
   "metadata": {},
   "outputs": [],
   "source": [
    "experiment_id = experiment_info.id"
   ]
  },
  {
   "cell_type": "markdown",
   "id": "81fbd226-b893-4604-923d-d946277645dd",
   "metadata": {},
   "source": [
    "# Experiment 삭제하기"
   ]
  },
  {
   "cell_type": "code",
   "execution_count": 201,
   "id": "73b36a58-5a0f-4d11-8eb1-1ccc5df3ca75",
   "metadata": {},
   "outputs": [
    {
     "data": {
      "text/plain": [
       "{}"
      ]
     },
     "execution_count": 201,
     "metadata": {},
     "output_type": "execute_result"
    }
   ],
   "source": [
    "client.delete_experiment(experiment_id=experiment_id)"
   ]
  },
  {
   "cell_type": "markdown",
   "id": "dbc04cd1-dfca-45c1-8c36-72384c3dcc1b",
   "metadata": {},
   "source": [
    "# Runs 삭제하기"
   ]
  },
  {
   "cell_type": "code",
   "execution_count": 204,
   "id": "e250abb2-d2d1-44bb-abec-7d6b9a7bba52",
   "metadata": {},
   "outputs": [
    {
     "name": "stdout",
     "output_type": "stream",
     "text": [
      "d346b4a9-130d-4338-8e54-ea4f7bfdec4e\n",
      "b831af3a-ea79-4514-8b17-df9462fedef9\n",
      "200f46bf-9f75-412a-ad75-1563b522fa34\n",
      "9040cc7a-7569-4b43-ad7e-141cd07f80e8\n"
     ]
    },
    {
     "data": {
      "text/plain": [
       "{}"
      ]
     },
     "execution_count": 204,
     "metadata": {},
     "output_type": "execute_result"
    }
   ],
   "source": [
    "for i in range(client.list_runs().total_size):\n",
    "    run_id = client.list_runs().runs[i].id\n",
    "    client.runs.delete_run(id=run_id)\n",
    "    print(run_id)"
   ]
  },
  {
   "cell_type": "markdown",
   "id": "5594aae4-6ae0-48ba-8fe4-0081e94adf8d",
   "metadata": {},
   "source": [
    "## Pipeline Upload"
   ]
  },
  {
   "cell_type": "code",
   "execution_count": 196,
   "id": "9411a88b-fb8b-4529-90b0-6fdbc7fe19b9",
   "metadata": {},
   "outputs": [
    {
     "data": {
      "text/html": [
       "<a href=http://172.17.0.12:8080/pipeline/#/pipelines/details/fd054cdd-2653-4457-9347-5986523b6106>Pipeline details</a>."
      ],
      "text/plain": [
       "<IPython.core.display.HTML object>"
      ]
     },
     "metadata": {},
     "output_type": "display_data"
    },
    {
     "data": {
      "text/plain": [
       "{'created_at': datetime.datetime(2022, 12, 27, 14, 21, 13, tzinfo=tzlocal()),\n",
       " 'default_version': {'code_source_url': None,\n",
       "                     'created_at': datetime.datetime(2022, 12, 27, 14, 21, 13, tzinfo=tzlocal()),\n",
       "                     'id': 'fd054cdd-2653-4457-9347-5986523b6106',\n",
       "                     'name': 'multiply-pipeline',\n",
       "                     'package_url': None,\n",
       "                     'parameters': None,\n",
       "                     'resource_references': [{'key': {'id': 'fd054cdd-2653-4457-9347-5986523b6106',\n",
       "                                                      'type': 'PIPELINE'},\n",
       "                                              'name': None,\n",
       "                                              'relationship': 'OWNER'}]},\n",
       " 'description': None,\n",
       " 'error': None,\n",
       " 'id': 'fd054cdd-2653-4457-9347-5986523b6106',\n",
       " 'name': 'multiply-pipeline',\n",
       " 'parameters': None,\n",
       " 'resource_references': None,\n",
       " 'url': None}"
      ]
     },
     "execution_count": 196,
     "metadata": {},
     "output_type": "execute_result"
    }
   ],
   "source": [
    "pipeline_package_path='kfp_practice/multiply/multiply-pipeline.yaml'\n",
    "pipeline_name='multiply-pipeline'\n",
    "client.upload_pipeline(pipeline_package_path=pipeline_package_path,pipeline_name=pipeline_name)"
   ]
  },
  {
   "cell_type": "markdown",
   "id": "134e7bde-452b-4df3-9e45-597d05fb7a44",
   "metadata": {},
   "source": [
    "# Experiment 생성"
   ]
  },
  {
   "cell_type": "code",
   "execution_count": 197,
   "id": "45150325-3463-4273-8d04-72f1e125c38e",
   "metadata": {},
   "outputs": [
    {
     "data": {
      "text/html": [
       "<a href=\"http://172.17.0.12:8080/pipeline/#/experiments/details/7c1cadfe-b2c1-436d-9041-30152acb2eee\" target=\"_blank\" >Experiment details</a>."
      ],
      "text/plain": [
       "<IPython.core.display.HTML object>"
      ]
     },
     "metadata": {},
     "output_type": "display_data"
    }
   ],
   "source": [
    "experiment = client.create_experiment(name=pipeline_name,description=pipeline_name,namespace=NAMESPACE)"
   ]
  },
  {
   "cell_type": "markdown",
   "id": "a1725b41-9866-4760-aef2-3dfef09689cc",
   "metadata": {},
   "source": [
    "## Run 생성"
   ]
  },
  {
   "cell_type": "code",
   "execution_count": 198,
   "id": "b639a024-05a0-4ba8-8c0b-c8c70f0c8b48",
   "metadata": {},
   "outputs": [
    {
     "data": {
      "text/html": [
       "<a href=\"http://172.17.0.12:8080/pipeline/#/runs/details/9040cc7a-7569-4b43-ad7e-141cd07f80e8\" target=\"_blank\" >Run details</a>."
      ],
      "text/plain": [
       "<IPython.core.display.HTML object>"
      ]
     },
     "metadata": {},
     "output_type": "display_data"
    },
    {
     "data": {
      "text/plain": [
       "{'created_at': datetime.datetime(2022, 12, 27, 14, 21, 19, tzinfo=tzlocal()),\n",
       " 'description': None,\n",
       " 'error': None,\n",
       " 'finished_at': datetime.datetime(1970, 1, 1, 0, 0, tzinfo=tzlocal()),\n",
       " 'id': '9040cc7a-7569-4b43-ad7e-141cd07f80e8',\n",
       " 'metrics': None,\n",
       " 'name': 'multiply-pipeline',\n",
       " 'pipeline_spec': {'parameters': None,\n",
       "                   'pipeline_id': None,\n",
       "                   'pipeline_manifest': None,\n",
       "                   'pipeline_name': None,\n",
       "                   'workflow_manifest': '{\"apiVersion\": '\n",
       "                                        '\"argoproj.io/v1alpha1\", \"kind\": '\n",
       "                                        '\"Workflow\", \"metadata\": '\n",
       "                                        '{\"generateName\": '\n",
       "                                        '\"my-multiply-component-pipeline-\", '\n",
       "                                        '\"annotations\": '\n",
       "                                        '{\"pipelines.kubeflow.org/kfp_sdk_version\": '\n",
       "                                        '\"1.6.3\", '\n",
       "                                        '\"pipelines.kubeflow.org/pipeline_compilation_time\": '\n",
       "                                        '\"2022-12-27T14:20:25.257568\", '\n",
       "                                        '\"pipelines.kubeflow.org/pipeline_spec\": '\n",
       "                                        '\"{\\\\\"description\\\\\": \\\\\"A pipeline '\n",
       "                                        'with my component.\\\\\", \\\\\"name\\\\\": '\n",
       "                                        '\\\\\"My multiply component '\n",
       "                                        'pipeline\\\\\"}\"}, \"labels\": '\n",
       "                                        '{\"pipelines.kubeflow.org/kfp_sdk_version\": '\n",
       "                                        '\"1.6.3\"}}, \"spec\": {\"entrypoint\": '\n",
       "                                        '\"my-multiply-component-pipeline\", '\n",
       "                                        '\"templates\": [{\"name\": '\n",
       "                                        '\"generate-numbers\", \"container\": '\n",
       "                                        '{\"args\": [\"python -c '\n",
       "                                        '\\\\\"print(\\'1\\\\\\\\n2\\\\\\\\n3\\\\\\\\n4\\\\\\\\n5\\\\\\\\n6\\\\\\\\n7\\\\\\\\n8\\\\\\\\n9\\\\\\\\n10\\')\\\\\" '\n",
       "                                        '| tee /tmp/output\"], \"command\": '\n",
       "                                        '[\"sh\", \"-c\"], \"image\": \"python:3.9\"}, '\n",
       "                                        '\"outputs\": {\"artifacts\": [{\"name\": '\n",
       "                                        '\"generate-numbers-output\", \"path\": '\n",
       "                                        '\"/tmp/output\"}]}, \"metadata\": '\n",
       "                                        '{\"labels\": '\n",
       "                                        '{\"pipelines.kubeflow.org/kfp_sdk_version\": '\n",
       "                                        '\"1.6.3\", '\n",
       "                                        '\"pipelines.kubeflow.org/pipeline-sdk-type\": '\n",
       "                                        '\"kfp\"}}}, {\"name\": '\n",
       "                                        '\"multiply-component\", \"container\": '\n",
       "                                        '{\"args\": [], \"command\": [\"python3\", '\n",
       "                                        '\"/pipelines/component/src/program.py\", '\n",
       "                                        '\"--input-path\", '\n",
       "                                        '\"/tmp/inputs/input_1/data\", '\n",
       "                                        '\"--param\", \"6\", \"--output-path\", '\n",
       "                                        '\"/tmp/outputs/output_1/data\"], '\n",
       "                                        '\"image\": '\n",
       "                                        '\"kangwoo/kfp-component:latest\"}, '\n",
       "                                        '\"inputs\": {\"artifacts\": [{\"name\": '\n",
       "                                        '\"generate-numbers-output\", \"path\": '\n",
       "                                        '\"/tmp/inputs/input_1/data\"}]}, '\n",
       "                                        '\"outputs\": {\"parameters\": [{\"name\": '\n",
       "                                        '\"multiply-component-output_1\", '\n",
       "                                        '\"valueFrom\": {\"path\": '\n",
       "                                        '\"/tmp/outputs/output_1/data\"}}], '\n",
       "                                        '\"artifacts\": [{\"name\": '\n",
       "                                        '\"multiply-component-output_1\", '\n",
       "                                        '\"path\": '\n",
       "                                        '\"/tmp/outputs/output_1/data\"}]}, '\n",
       "                                        '\"metadata\": {\"labels\": '\n",
       "                                        '{\"pipelines.kubeflow.org/kfp_sdk_version\": '\n",
       "                                        '\"1.6.3\", '\n",
       "                                        '\"pipelines.kubeflow.org/pipeline-sdk-type\": '\n",
       "                                        '\"kfp\"}, \"annotations\": '\n",
       "                                        '{\"pipelines.kubeflow.org/component_spec\": '\n",
       "                                        '\"{\\\\\"description\\\\\": '\n",
       "                                        '\\\\\"Multiplication.\\\\\", '\n",
       "                                        '\\\\\"implementation\\\\\": '\n",
       "                                        '{\\\\\"container\\\\\": {\\\\\"command\\\\\": '\n",
       "                                        '[\\\\\"python3\\\\\", '\n",
       "                                        '\\\\\"/pipelines/component/src/program.py\\\\\", '\n",
       "                                        '\\\\\"--input-path\\\\\", {\\\\\"inputPath\\\\\": '\n",
       "                                        '\\\\\"input_1\\\\\"}, \\\\\"--param\\\\\", '\n",
       "                                        '{\\\\\"inputValue\\\\\": '\n",
       "                                        '\\\\\"parameter_1\\\\\"}, '\n",
       "                                        '\\\\\"--output-path\\\\\", '\n",
       "                                        '{\\\\\"outputPath\\\\\": \\\\\"output_1\\\\\"}], '\n",
       "                                        '\\\\\"image\\\\\": '\n",
       "                                        '\\\\\"kangwoo/kfp-component:latest\\\\\"}}, '\n",
       "                                        '\\\\\"inputs\\\\\": [{\\\\\"description\\\\\": '\n",
       "                                        '\\\\\"Data for Input 1\\\\\", \\\\\"name\\\\\": '\n",
       "                                        '\\\\\"input_1\\\\\", \\\\\"type\\\\\": '\n",
       "                                        '\\\\\"String\\\\\"}, {\\\\\"default\\\\\": '\n",
       "                                        '\\\\\"1\\\\\", \\\\\"description\\\\\": '\n",
       "                                        '\\\\\"Parameter 1 description\\\\\", '\n",
       "                                        '\\\\\"name\\\\\": \\\\\"parameter_1\\\\\", '\n",
       "                                        '\\\\\"type\\\\\": \\\\\"Integer\\\\\"}], '\n",
       "                                        '\\\\\"name\\\\\": \\\\\"Multiply component\\\\\", '\n",
       "                                        '\\\\\"outputs\\\\\": [{\\\\\"description\\\\\": '\n",
       "                                        '\\\\\"Output 1 data\\\\\", \\\\\"name\\\\\": '\n",
       "                                        '\\\\\"output_1\\\\\"}]}\", '\n",
       "                                        '\"pipelines.kubeflow.org/component_ref\": '\n",
       "                                        '\"{\\\\\"digest\\\\\": '\n",
       "                                        '\\\\\"1a0169659db321c208b5f33d3780017c5b2b6e035de7b5d76d907c7de06ce7e7\\\\\", '\n",
       "                                        '\\\\\"url\\\\\": \\\\\"./component.yaml\\\\\"}\", '\n",
       "                                        '\"pipelines.kubeflow.org/arguments.parameters\": '\n",
       "                                        '\"{\\\\\"parameter_1\\\\\": \\\\\"6\\\\\"}\"}}}, '\n",
       "                                        '{\"name\": '\n",
       "                                        '\"my-multiply-component-pipeline\", '\n",
       "                                        '\"dag\": {\"tasks\": [{\"name\": '\n",
       "                                        '\"generate-numbers\", \"template\": '\n",
       "                                        '\"generate-numbers\"}, {\"name\": '\n",
       "                                        '\"multiply-component\", \"template\": '\n",
       "                                        '\"multiply-component\", \"dependencies\": '\n",
       "                                        '[\"generate-numbers\"], \"arguments\": '\n",
       "                                        '{\"artifacts\": [{\"name\": '\n",
       "                                        '\"generate-numbers-output\", \"from\": '\n",
       "                                        '\"{{tasks.generate-numbers.outputs.artifacts.generate-numbers-output}}\"}]}}, '\n",
       "                                        '{\"name\": \"print\", \"template\": '\n",
       "                                        '\"print\", \"dependencies\": '\n",
       "                                        '[\"multiply-component\"], \"arguments\": '\n",
       "                                        '{\"parameters\": [{\"name\": '\n",
       "                                        '\"multiply-component-output_1\", '\n",
       "                                        '\"value\": '\n",
       "                                        '\"{{tasks.multiply-component.outputs.parameters.multiply-component-output_1}}\"}]}}]}}, '\n",
       "                                        '{\"name\": \"print\", \"container\": '\n",
       "                                        '{\"command\": [\"echo\", '\n",
       "                                        '\"{{inputs.parameters.multiply-component-output_1}}\"], '\n",
       "                                        '\"image\": \"python:3.9\"}, \"inputs\": '\n",
       "                                        '{\"parameters\": [{\"name\": '\n",
       "                                        '\"multiply-component-output_1\"}]}, '\n",
       "                                        '\"metadata\": {\"labels\": '\n",
       "                                        '{\"pipelines.kubeflow.org/kfp_sdk_version\": '\n",
       "                                        '\"1.6.3\", '\n",
       "                                        '\"pipelines.kubeflow.org/pipeline-sdk-type\": '\n",
       "                                        '\"kfp\"}}}], \"arguments\": '\n",
       "                                        '{\"parameters\": []}, '\n",
       "                                        '\"serviceAccountName\": '\n",
       "                                        '\"pipeline-runner\"}}'},\n",
       " 'resource_references': [{'key': {'id': '7c1cadfe-b2c1-436d-9041-30152acb2eee',\n",
       "                                  'type': 'EXPERIMENT'},\n",
       "                          'name': 'multiply-pipeline',\n",
       "                          'relationship': 'OWNER'}],\n",
       " 'scheduled_at': datetime.datetime(2022, 12, 27, 14, 21, 19, tzinfo=tzlocal()),\n",
       " 'service_account': 'default-editor',\n",
       " 'status': None,\n",
       " 'storage_state': None}"
      ]
     },
     "execution_count": 198,
     "metadata": {},
     "output_type": "execute_result"
    }
   ],
   "source": [
    "client.run_pipeline(experiment_id=experiment.id,job_name=pipeline_name,pipeline_package_path=pipeline_package_path)"
   ]
  },
  {
   "cell_type": "code",
   "execution_count": null,
   "id": "513994c1-e1fa-4a80-ab1d-a3356aa33286",
   "metadata": {},
   "outputs": [],
   "source": []
  }
 ],
 "metadata": {
  "kernelspec": {
   "display_name": "Python 3",
   "language": "python",
   "name": "python3"
  },
  "language_info": {
   "codemirror_mode": {
    "name": "ipython",
    "version": 3
   },
   "file_extension": ".py",
   "mimetype": "text/x-python",
   "name": "python",
   "nbconvert_exporter": "python",
   "pygments_lexer": "ipython3",
   "version": "3.9.6 (default, Oct 15 2022, 14:20:12) \n[Clang 14.0.0 (clang-1400.0.29.102)]"
  },
  "vscode": {
   "interpreter": {
    "hash": "8f0445214270c57c59a705a6eaadb196f0a3868836f70703f34ac88d1617f8af"
   }
  }
 },
 "nbformat": 4,
 "nbformat_minor": 5
}
