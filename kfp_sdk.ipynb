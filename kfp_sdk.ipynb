{
 "cells": [
  {
   "cell_type": "markdown",
   "id": "263158f8-d7ef-4382-91ae-4a1844e424ca",
   "metadata": {},
   "source": [
    "# Client 동기화"
   ]
  },
  {
   "cell_type": "code",
   "execution_count": 3,
   "id": "f7436d5e-fe19-4509-b2de-fdf5f2fc776c",
   "metadata": {},
   "outputs": [
    {
     "name": "stdout",
     "output_type": "stream",
     "text": [
      "[Demo] XGBoost - Iterative model training\n",
      "[Demo] TFX - Taxi tip prediction model trainer\n",
      "[Tutorial] Data passing in python components\n",
      "[Tutorial] DSL - Control structures\n",
      "example_pipeline\n",
      "cheating-containerless\n",
      "multiply-pipeline\n",
      "mnist\n",
      "iris-pipeline\n",
      "http://127.0.0.1:8080/dex/auth/local/login?back=&state=nhze7mdzkwev5pq5ept5n5kju\n",
      "MTY3MjYyMTY2OHxOd3dBTkZsQlVUVTNOVkkyV2xSQk4xTkhWVmRRVXpaSldrdEdXalZPTkVSSldqVlhOek15VlVVek5rUldORXRSVjAxQlVVdEVSbEU9fDo5az8iSmtfpSvxv8s278wbMfgibvNaumlBYtDiB_sE\n"
     ]
    }
   ],
   "source": [
    "import kfp\n",
    "import requests\n",
    "\n",
    "USERNAME = \"user@example.com\"\n",
    "PASSWORD = \"12341234\"\n",
    "NAMESPACE = \"kubeflow-user-example-com\"\n",
    "HOST = \"http://127.0.0.1:8080\" # istio-ingressgateway pod ip:port\n",
    "\n",
    "session = requests.Session()\n",
    "response = session.get(HOST)\n",
    "\n",
    "headers = {\n",
    "    \"Content-Type\": \"application/x-www-form-urlencoded\",\n",
    "}\n",
    "\n",
    "data = {\"login\": \"user@example.com\", \"password\": \"12341234\"}\n",
    "session.post(response.url, headers=headers, data=data)\n",
    "session_cookie = session.cookies.get_dict()[\"authservice_session\"]\n",
    "\n",
    "client = kfp.Client(\n",
    "    host=f\"{HOST}/pipeline\",\n",
    "    namespace=f\"{NAMESPACE}\",\n",
    "    cookies=f\"authservice_session={session_cookie}\",\n",
    ")\n",
    "list_pipelines = client.list_pipelines()\n",
    "\n",
    "for i in range(list_pipelines.total_size):\n",
    "    print(list_pipelines.pipelines[i].name)\n",
    "print(response.url)\n",
    "print(session_cookie)"
   ]
  },
  {
   "cell_type": "code",
   "execution_count": 6,
   "id": "baae55e2-c478-4428-ae7c-99a77175b672",
   "metadata": {},
   "outputs": [
    {
     "data": {
      "text/plain": [
       "<kfp._client.Client at 0x7f480eae8a90>"
      ]
     },
     "execution_count": 6,
     "metadata": {},
     "output_type": "execute_result"
    }
   ],
   "source": [
    "client"
   ]
  },
  {
   "cell_type": "markdown",
   "id": "d610e44f-987e-40aa-b891-5d80c5150e63",
   "metadata": {},
   "source": [
    "# Experiment 정보 가져오기"
   ]
  },
  {
   "cell_type": "code",
   "execution_count": 41,
   "id": "06776e58-197a-42dd-bdb8-7143f0ce1e7a",
   "metadata": {},
   "outputs": [],
   "source": [
    "experiment_info = client.get_experiment(experiment_name=\"mnist-pipeline\",namespace=NAMESPACE)"
   ]
  },
  {
   "cell_type": "code",
   "execution_count": 42,
   "id": "4e57a984-fa76-44bb-8762-d98910608396",
   "metadata": {},
   "outputs": [],
   "source": [
    "experiment_id = experiment_info.id"
   ]
  },
  {
   "cell_type": "markdown",
   "id": "81fbd226-b893-4604-923d-d946277645dd",
   "metadata": {},
   "source": [
    "# Experiment 삭제하기"
   ]
  },
  {
   "cell_type": "code",
   "execution_count": 43,
   "id": "73b36a58-5a0f-4d11-8eb1-1ccc5df3ca75",
   "metadata": {},
   "outputs": [
    {
     "data": {
      "text/plain": [
       "{}"
      ]
     },
     "execution_count": 43,
     "metadata": {},
     "output_type": "execute_result"
    }
   ],
   "source": [
    "client.delete_experiment(experiment_id=experiment_id)"
   ]
  },
  {
   "cell_type": "markdown",
   "id": "dbc04cd1-dfca-45c1-8c36-72384c3dcc1b",
   "metadata": {},
   "source": [
    "# Runs 삭제하기"
   ]
  },
  {
   "cell_type": "code",
   "execution_count": 44,
   "id": "e250abb2-d2d1-44bb-abec-7d6b9a7bba52",
   "metadata": {},
   "outputs": [
    {
     "name": "stdout",
     "output_type": "stream",
     "text": [
      "6d768f1f-e224-4bd0-87d0-4d871bbc8c85\n"
     ]
    }
   ],
   "source": [
    "for i in range(client.list_runs().total_size):\n",
    "    run_id = client.list_runs().runs[i].id\n",
    "    client.runs.delete_run(id=run_id)\n",
    "    print(run_id)"
   ]
  },
  {
   "cell_type": "markdown",
   "id": "5594aae4-6ae0-48ba-8fe4-0081e94adf8d",
   "metadata": {},
   "source": [
    "## Pipeline Upload"
   ]
  },
  {
   "cell_type": "code",
   "execution_count": 15,
   "id": "9411a88b-fb8b-4529-90b0-6fdbc7fe19b9",
   "metadata": {},
   "outputs": [
    {
     "data": {
      "text/html": [
       "<a href=http://127.0.0.1:8080/pipeline/#/pipelines/details/bb84b67c-0904-4ec3-bfa2-2cdfc1645a21>Pipeline details</a>."
      ],
      "text/plain": [
       "<IPython.core.display.HTML object>"
      ]
     },
     "metadata": {},
     "output_type": "display_data"
    },
    {
     "data": {
      "text/plain": [
       "{'created_at': datetime.datetime(2023, 1, 2, 1, 55, 26, tzinfo=tzutc()),\n",
       " 'default_version': {'code_source_url': None,\n",
       "                     'created_at': datetime.datetime(2023, 1, 2, 1, 55, 26, tzinfo=tzutc()),\n",
       "                     'description': None,\n",
       "                     'id': 'bb84b67c-0904-4ec3-bfa2-2cdfc1645a21',\n",
       "                     'name': 'data',\n",
       "                     'package_url': None,\n",
       "                     'parameters': None,\n",
       "                     'resource_references': [{'key': {'id': 'bb84b67c-0904-4ec3-bfa2-2cdfc1645a21',\n",
       "                                                      'type': 'PIPELINE'},\n",
       "                                              'name': None,\n",
       "                                              'relationship': 'OWNER'}]},\n",
       " 'description': None,\n",
       " 'error': None,\n",
       " 'id': 'bb84b67c-0904-4ec3-bfa2-2cdfc1645a21',\n",
       " 'name': 'data',\n",
       " 'parameters': None,\n",
       " 'resource_references': None,\n",
       " 'url': None}"
      ]
     },
     "execution_count": 15,
     "metadata": {},
     "output_type": "execute_result"
    }
   ],
   "source": [
    "pipeline_package_path='/Users/gimgihun/kfp_practice/mnist/mnist.yaml'\n",
    "pipeline_name='data'\n",
    "client.upload_pipeline(pipeline_package_path=pipeline_package_path,pipeline_name=pipeline_name)"
   ]
  },
  {
   "cell_type": "markdown",
   "id": "134e7bde-452b-4df3-9e45-597d05fb7a44",
   "metadata": {},
   "source": [
    "# Experiment 생성"
   ]
  },
  {
   "cell_type": "code",
   "execution_count": 16,
   "id": "45150325-3463-4273-8d04-72f1e125c38e",
   "metadata": {},
   "outputs": [
    {
     "data": {
      "text/html": [
       "<a href=\"http://127.0.0.1:8080/pipeline/#/experiments/details/08b489bb-d332-4a4d-a5b4-29b2c070c540\" target=\"_blank\" >Experiment details</a>."
      ],
      "text/plain": [
       "<IPython.core.display.HTML object>"
      ]
     },
     "metadata": {},
     "output_type": "display_data"
    }
   ],
   "source": [
    "experiment = client.create_experiment(name=pipeline_name,description=pipeline_name,namespace=NAMESPACE)"
   ]
  },
  {
   "cell_type": "code",
   "execution_count": 17,
   "id": "f2845b32",
   "metadata": {},
   "outputs": [
    {
     "data": {
      "text/plain": [
       "'08b489bb-d332-4a4d-a5b4-29b2c070c540'"
      ]
     },
     "execution_count": 17,
     "metadata": {},
     "output_type": "execute_result"
    }
   ],
   "source": [
    "experiment_info = client.get_experiment(experiment_name=pipeline_name,namespace=NAMESPACE)\n",
    "experiment_id = experiment_info.id\n",
    "experiment_id\n"
   ]
  },
  {
   "cell_type": "markdown",
   "id": "a1725b41-9866-4760-aef2-3dfef09689cc",
   "metadata": {},
   "source": [
    "## Run 생성"
   ]
  },
  {
   "cell_type": "code",
   "execution_count": 18,
   "id": "b639a024-05a0-4ba8-8c0b-c8c70f0c8b48",
   "metadata": {},
   "outputs": [
    {
     "ename": "ApiException",
     "evalue": "(500)\nReason: Internal Server Error\nHTTP response headers: HTTPHeaderDict({'x-powered-by': 'Express', 'content-type': 'application/json', 'date': 'Mon, 02 Jan 2023 01:55:31 GMT', 'content-length': '775', 'x-envoy-upstream-service-time': '102', 'server': 'istio-envoy'})\nHTTP response body: {\"error\":\"Failed to create a new run.: InternalServerError: Failed to store run mnist-c5qbc to table: Error 1366: Incorrect string value: '\\\\xEB\\\\x8D\\\\xB0\\\\xEC\\\\x9D\\\\xB4...' for column 'WorkflowRuntimeManifest' at row 1\",\"code\":13,\"message\":\"Failed to create a new run.: InternalServerError: Failed to store run mnist-c5qbc to table: Error 1366: Incorrect string value: '\\\\xEB\\\\x8D\\\\xB0\\\\xEC\\\\x9D\\\\xB4...' for column 'WorkflowRuntimeManifest' at row 1\",\"details\":[{\"@type\":\"type.googleapis.com/api.Error\",\"error_message\":\"Internal Server Error\",\"error_details\":\"Failed to create a new run.: InternalServerError: Failed to store run mnist-c5qbc to table: Error 1366: Incorrect string value: '\\\\xEB\\\\x8D\\\\xB0\\\\xEC\\\\x9D\\\\xB4...' for column 'WorkflowRuntimeManifest' at row 1\"}]}\n",
     "output_type": "error",
     "traceback": [
      "\u001b[0;31m---------------------------------------------------------------------------\u001b[0m",
      "\u001b[0;31mApiException\u001b[0m                              Traceback (most recent call last)",
      "Cell \u001b[0;32mIn [18], line 1\u001b[0m\n\u001b[0;32m----> 1\u001b[0m client\u001b[39m.\u001b[39;49mrun_pipeline(experiment_id\u001b[39m=\u001b[39;49mexperiment\u001b[39m.\u001b[39;49mid,job_name\u001b[39m=\u001b[39;49mpipeline_name,pipeline_package_path\u001b[39m=\u001b[39;49mpipeline_package_path)\n",
      "File \u001b[0;32m/opt/homebrew/lib/python3.10/site-packages/kfp/_client.py:751\u001b[0m, in \u001b[0;36mClient.run_pipeline\u001b[0;34m(self, experiment_id, job_name, pipeline_package_path, params, pipeline_id, version_id, pipeline_root, enable_caching, service_account)\u001b[0m\n\u001b[1;32m    737\u001b[0m job_config \u001b[39m=\u001b[39m \u001b[39mself\u001b[39m\u001b[39m.\u001b[39m_create_job_config(\n\u001b[1;32m    738\u001b[0m     experiment_id\u001b[39m=\u001b[39mexperiment_id,\n\u001b[1;32m    739\u001b[0m     params\u001b[39m=\u001b[39mparams,\n\u001b[0;32m   (...)\u001b[0m\n\u001b[1;32m    743\u001b[0m     enable_caching\u001b[39m=\u001b[39menable_caching,\n\u001b[1;32m    744\u001b[0m )\n\u001b[1;32m    745\u001b[0m run_body \u001b[39m=\u001b[39m kfp_server_api\u001b[39m.\u001b[39mmodels\u001b[39m.\u001b[39mApiRun(\n\u001b[1;32m    746\u001b[0m     pipeline_spec\u001b[39m=\u001b[39mjob_config\u001b[39m.\u001b[39mspec,\n\u001b[1;32m    747\u001b[0m     resource_references\u001b[39m=\u001b[39mjob_config\u001b[39m.\u001b[39mresource_references,\n\u001b[1;32m    748\u001b[0m     name\u001b[39m=\u001b[39mjob_name,\n\u001b[1;32m    749\u001b[0m     service_account\u001b[39m=\u001b[39mservice_account)\n\u001b[0;32m--> 751\u001b[0m response \u001b[39m=\u001b[39m \u001b[39mself\u001b[39;49m\u001b[39m.\u001b[39;49m_run_api\u001b[39m.\u001b[39;49mcreate_run(body\u001b[39m=\u001b[39;49mrun_body)\n\u001b[1;32m    753\u001b[0m \u001b[39mif\u001b[39;00m \u001b[39mself\u001b[39m\u001b[39m.\u001b[39m_is_ipython():\n\u001b[1;32m    754\u001b[0m     \u001b[39mimport\u001b[39;00m \u001b[39mIPython\u001b[39;00m\n",
      "File \u001b[0;32m/opt/homebrew/lib/python3.10/site-packages/kfp_server_api/api/run_service_api.py:187\u001b[0m, in \u001b[0;36mRunServiceApi.create_run\u001b[0;34m(self, body, **kwargs)\u001b[0m\n\u001b[1;32m    162\u001b[0m \u001b[39m\"\"\"Creates a new run.  # noqa: E501\u001b[39;00m\n\u001b[1;32m    163\u001b[0m \n\u001b[1;32m    164\u001b[0m \u001b[39mThis method makes a synchronous HTTP request by default. To make an\u001b[39;00m\n\u001b[0;32m   (...)\u001b[0m\n\u001b[1;32m    184\u001b[0m \u001b[39m:rtype: ApiRunDetail\u001b[39;00m\n\u001b[1;32m    185\u001b[0m \u001b[39m\"\"\"\u001b[39;00m\n\u001b[1;32m    186\u001b[0m kwargs[\u001b[39m'\u001b[39m\u001b[39m_return_http_data_only\u001b[39m\u001b[39m'\u001b[39m] \u001b[39m=\u001b[39m \u001b[39mTrue\u001b[39;00m\n\u001b[0;32m--> 187\u001b[0m \u001b[39mreturn\u001b[39;00m \u001b[39mself\u001b[39;49m\u001b[39m.\u001b[39;49mcreate_run_with_http_info(body, \u001b[39m*\u001b[39;49m\u001b[39m*\u001b[39;49mkwargs)\n",
      "File \u001b[0;32m/opt/homebrew/lib/python3.10/site-packages/kfp_server_api/api/run_service_api.py:271\u001b[0m, in \u001b[0;36mRunServiceApi.create_run_with_http_info\u001b[0;34m(self, body, **kwargs)\u001b[0m\n\u001b[1;32m    268\u001b[0m \u001b[39m# Authentication setting\u001b[39;00m\n\u001b[1;32m    269\u001b[0m auth_settings \u001b[39m=\u001b[39m [\u001b[39m'\u001b[39m\u001b[39mBearer\u001b[39m\u001b[39m'\u001b[39m]  \u001b[39m# noqa: E501\u001b[39;00m\n\u001b[0;32m--> 271\u001b[0m \u001b[39mreturn\u001b[39;00m \u001b[39mself\u001b[39;49m\u001b[39m.\u001b[39;49mapi_client\u001b[39m.\u001b[39;49mcall_api(\n\u001b[1;32m    272\u001b[0m     \u001b[39m'\u001b[39;49m\u001b[39m/apis/v1beta1/runs\u001b[39;49m\u001b[39m'\u001b[39;49m, \u001b[39m'\u001b[39;49m\u001b[39mPOST\u001b[39;49m\u001b[39m'\u001b[39;49m,\n\u001b[1;32m    273\u001b[0m     path_params,\n\u001b[1;32m    274\u001b[0m     query_params,\n\u001b[1;32m    275\u001b[0m     header_params,\n\u001b[1;32m    276\u001b[0m     body\u001b[39m=\u001b[39;49mbody_params,\n\u001b[1;32m    277\u001b[0m     post_params\u001b[39m=\u001b[39;49mform_params,\n\u001b[1;32m    278\u001b[0m     files\u001b[39m=\u001b[39;49mlocal_var_files,\n\u001b[1;32m    279\u001b[0m     response_type\u001b[39m=\u001b[39;49m\u001b[39m'\u001b[39;49m\u001b[39mApiRunDetail\u001b[39;49m\u001b[39m'\u001b[39;49m,  \u001b[39m# noqa: E501\u001b[39;49;00m\n\u001b[1;32m    280\u001b[0m     auth_settings\u001b[39m=\u001b[39;49mauth_settings,\n\u001b[1;32m    281\u001b[0m     async_req\u001b[39m=\u001b[39;49mlocal_var_params\u001b[39m.\u001b[39;49mget(\u001b[39m'\u001b[39;49m\u001b[39masync_req\u001b[39;49m\u001b[39m'\u001b[39;49m),\n\u001b[1;32m    282\u001b[0m     _return_http_data_only\u001b[39m=\u001b[39;49mlocal_var_params\u001b[39m.\u001b[39;49mget(\u001b[39m'\u001b[39;49m\u001b[39m_return_http_data_only\u001b[39;49m\u001b[39m'\u001b[39;49m),  \u001b[39m# noqa: E501\u001b[39;49;00m\n\u001b[1;32m    283\u001b[0m     _preload_content\u001b[39m=\u001b[39;49mlocal_var_params\u001b[39m.\u001b[39;49mget(\u001b[39m'\u001b[39;49m\u001b[39m_preload_content\u001b[39;49m\u001b[39m'\u001b[39;49m, \u001b[39mTrue\u001b[39;49;00m),\n\u001b[1;32m    284\u001b[0m     _request_timeout\u001b[39m=\u001b[39;49mlocal_var_params\u001b[39m.\u001b[39;49mget(\u001b[39m'\u001b[39;49m\u001b[39m_request_timeout\u001b[39;49m\u001b[39m'\u001b[39;49m),\n\u001b[1;32m    285\u001b[0m     collection_formats\u001b[39m=\u001b[39;49mcollection_formats)\n",
      "File \u001b[0;32m/opt/homebrew/lib/python3.10/site-packages/kfp_server_api/api_client.py:364\u001b[0m, in \u001b[0;36mApiClient.call_api\u001b[0;34m(self, resource_path, method, path_params, query_params, header_params, body, post_params, files, response_type, auth_settings, async_req, _return_http_data_only, collection_formats, _preload_content, _request_timeout, _host)\u001b[0m\n\u001b[1;32m    327\u001b[0m \u001b[39m\"\"\"Makes the HTTP request (synchronous) and returns deserialized data.\u001b[39;00m\n\u001b[1;32m    328\u001b[0m \n\u001b[1;32m    329\u001b[0m \u001b[39mTo make an async_req request, set the async_req parameter.\u001b[39;00m\n\u001b[0;32m   (...)\u001b[0m\n\u001b[1;32m    361\u001b[0m \u001b[39m    then the method will return the response directly.\u001b[39;00m\n\u001b[1;32m    362\u001b[0m \u001b[39m\"\"\"\u001b[39;00m\n\u001b[1;32m    363\u001b[0m \u001b[39mif\u001b[39;00m \u001b[39mnot\u001b[39;00m async_req:\n\u001b[0;32m--> 364\u001b[0m     \u001b[39mreturn\u001b[39;00m \u001b[39mself\u001b[39;49m\u001b[39m.\u001b[39;49m__call_api(resource_path, method,\n\u001b[1;32m    365\u001b[0m                            path_params, query_params, header_params,\n\u001b[1;32m    366\u001b[0m                            body, post_params, files,\n\u001b[1;32m    367\u001b[0m                            response_type, auth_settings,\n\u001b[1;32m    368\u001b[0m                            _return_http_data_only, collection_formats,\n\u001b[1;32m    369\u001b[0m                            _preload_content, _request_timeout, _host)\n\u001b[1;32m    371\u001b[0m \u001b[39mreturn\u001b[39;00m \u001b[39mself\u001b[39m\u001b[39m.\u001b[39mpool\u001b[39m.\u001b[39mapply_async(\u001b[39mself\u001b[39m\u001b[39m.\u001b[39m__call_api, (resource_path,\n\u001b[1;32m    372\u001b[0m                                                method, path_params,\n\u001b[1;32m    373\u001b[0m                                                query_params,\n\u001b[0;32m   (...)\u001b[0m\n\u001b[1;32m    381\u001b[0m                                                _request_timeout,\n\u001b[1;32m    382\u001b[0m                                                _host))\n",
      "File \u001b[0;32m/opt/homebrew/lib/python3.10/site-packages/kfp_server_api/api_client.py:188\u001b[0m, in \u001b[0;36mApiClient.__call_api\u001b[0;34m(self, resource_path, method, path_params, query_params, header_params, body, post_params, files, response_type, auth_settings, _return_http_data_only, collection_formats, _preload_content, _request_timeout, _host)\u001b[0m\n\u001b[1;32m    186\u001b[0m \u001b[39mexcept\u001b[39;00m ApiException \u001b[39mas\u001b[39;00m e:\n\u001b[1;32m    187\u001b[0m     e\u001b[39m.\u001b[39mbody \u001b[39m=\u001b[39m e\u001b[39m.\u001b[39mbody\u001b[39m.\u001b[39mdecode(\u001b[39m'\u001b[39m\u001b[39mutf-8\u001b[39m\u001b[39m'\u001b[39m) \u001b[39mif\u001b[39;00m six\u001b[39m.\u001b[39mPY3 \u001b[39melse\u001b[39;00m e\u001b[39m.\u001b[39mbody\n\u001b[0;32m--> 188\u001b[0m     \u001b[39mraise\u001b[39;00m e\n\u001b[1;32m    190\u001b[0m content_type \u001b[39m=\u001b[39m response_data\u001b[39m.\u001b[39mgetheader(\u001b[39m'\u001b[39m\u001b[39mcontent-type\u001b[39m\u001b[39m'\u001b[39m)\n\u001b[1;32m    192\u001b[0m \u001b[39mself\u001b[39m\u001b[39m.\u001b[39mlast_response \u001b[39m=\u001b[39m response_data\n",
      "File \u001b[0;32m/opt/homebrew/lib/python3.10/site-packages/kfp_server_api/api_client.py:181\u001b[0m, in \u001b[0;36mApiClient.__call_api\u001b[0;34m(self, resource_path, method, path_params, query_params, header_params, body, post_params, files, response_type, auth_settings, _return_http_data_only, collection_formats, _preload_content, _request_timeout, _host)\u001b[0m\n\u001b[1;32m    177\u001b[0m     url \u001b[39m=\u001b[39m _host \u001b[39m+\u001b[39m resource_path\n\u001b[1;32m    179\u001b[0m \u001b[39mtry\u001b[39;00m:\n\u001b[1;32m    180\u001b[0m     \u001b[39m# perform request and return response\u001b[39;00m\n\u001b[0;32m--> 181\u001b[0m     response_data \u001b[39m=\u001b[39m \u001b[39mself\u001b[39;49m\u001b[39m.\u001b[39;49mrequest(\n\u001b[1;32m    182\u001b[0m         method, url, query_params\u001b[39m=\u001b[39;49mquery_params, headers\u001b[39m=\u001b[39;49mheader_params,\n\u001b[1;32m    183\u001b[0m         post_params\u001b[39m=\u001b[39;49mpost_params, body\u001b[39m=\u001b[39;49mbody,\n\u001b[1;32m    184\u001b[0m         _preload_content\u001b[39m=\u001b[39;49m_preload_content,\n\u001b[1;32m    185\u001b[0m         _request_timeout\u001b[39m=\u001b[39;49m_request_timeout)\n\u001b[1;32m    186\u001b[0m \u001b[39mexcept\u001b[39;00m ApiException \u001b[39mas\u001b[39;00m e:\n\u001b[1;32m    187\u001b[0m     e\u001b[39m.\u001b[39mbody \u001b[39m=\u001b[39m e\u001b[39m.\u001b[39mbody\u001b[39m.\u001b[39mdecode(\u001b[39m'\u001b[39m\u001b[39mutf-8\u001b[39m\u001b[39m'\u001b[39m) \u001b[39mif\u001b[39;00m six\u001b[39m.\u001b[39mPY3 \u001b[39melse\u001b[39;00m e\u001b[39m.\u001b[39mbody\n",
      "File \u001b[0;32m/opt/homebrew/lib/python3.10/site-packages/kfp_server_api/api_client.py:407\u001b[0m, in \u001b[0;36mApiClient.request\u001b[0;34m(self, method, url, query_params, headers, post_params, body, _preload_content, _request_timeout)\u001b[0m\n\u001b[1;32m    401\u001b[0m     \u001b[39mreturn\u001b[39;00m \u001b[39mself\u001b[39m\u001b[39m.\u001b[39mrest_client\u001b[39m.\u001b[39mOPTIONS(url,\n\u001b[1;32m    402\u001b[0m                                     query_params\u001b[39m=\u001b[39mquery_params,\n\u001b[1;32m    403\u001b[0m                                     headers\u001b[39m=\u001b[39mheaders,\n\u001b[1;32m    404\u001b[0m                                     _preload_content\u001b[39m=\u001b[39m_preload_content,\n\u001b[1;32m    405\u001b[0m                                     _request_timeout\u001b[39m=\u001b[39m_request_timeout)\n\u001b[1;32m    406\u001b[0m \u001b[39melif\u001b[39;00m method \u001b[39m==\u001b[39m \u001b[39m\"\u001b[39m\u001b[39mPOST\u001b[39m\u001b[39m\"\u001b[39m:\n\u001b[0;32m--> 407\u001b[0m     \u001b[39mreturn\u001b[39;00m \u001b[39mself\u001b[39;49m\u001b[39m.\u001b[39;49mrest_client\u001b[39m.\u001b[39;49mPOST(url,\n\u001b[1;32m    408\u001b[0m                                  query_params\u001b[39m=\u001b[39;49mquery_params,\n\u001b[1;32m    409\u001b[0m                                  headers\u001b[39m=\u001b[39;49mheaders,\n\u001b[1;32m    410\u001b[0m                                  post_params\u001b[39m=\u001b[39;49mpost_params,\n\u001b[1;32m    411\u001b[0m                                  _preload_content\u001b[39m=\u001b[39;49m_preload_content,\n\u001b[1;32m    412\u001b[0m                                  _request_timeout\u001b[39m=\u001b[39;49m_request_timeout,\n\u001b[1;32m    413\u001b[0m                                  body\u001b[39m=\u001b[39;49mbody)\n\u001b[1;32m    414\u001b[0m \u001b[39melif\u001b[39;00m method \u001b[39m==\u001b[39m \u001b[39m\"\u001b[39m\u001b[39mPUT\u001b[39m\u001b[39m\"\u001b[39m:\n\u001b[1;32m    415\u001b[0m     \u001b[39mreturn\u001b[39;00m \u001b[39mself\u001b[39m\u001b[39m.\u001b[39mrest_client\u001b[39m.\u001b[39mPUT(url,\n\u001b[1;32m    416\u001b[0m                                 query_params\u001b[39m=\u001b[39mquery_params,\n\u001b[1;32m    417\u001b[0m                                 headers\u001b[39m=\u001b[39mheaders,\n\u001b[0;32m   (...)\u001b[0m\n\u001b[1;32m    420\u001b[0m                                 _request_timeout\u001b[39m=\u001b[39m_request_timeout,\n\u001b[1;32m    421\u001b[0m                                 body\u001b[39m=\u001b[39mbody)\n",
      "File \u001b[0;32m/opt/homebrew/lib/python3.10/site-packages/kfp_server_api/rest.py:265\u001b[0m, in \u001b[0;36mRESTClientObject.POST\u001b[0;34m(self, url, headers, query_params, post_params, body, _preload_content, _request_timeout)\u001b[0m\n\u001b[1;32m    263\u001b[0m \u001b[39mdef\u001b[39;00m \u001b[39mPOST\u001b[39m(\u001b[39mself\u001b[39m, url, headers\u001b[39m=\u001b[39m\u001b[39mNone\u001b[39;00m, query_params\u001b[39m=\u001b[39m\u001b[39mNone\u001b[39;00m, post_params\u001b[39m=\u001b[39m\u001b[39mNone\u001b[39;00m,\n\u001b[1;32m    264\u001b[0m          body\u001b[39m=\u001b[39m\u001b[39mNone\u001b[39;00m, _preload_content\u001b[39m=\u001b[39m\u001b[39mTrue\u001b[39;00m, _request_timeout\u001b[39m=\u001b[39m\u001b[39mNone\u001b[39;00m):\n\u001b[0;32m--> 265\u001b[0m     \u001b[39mreturn\u001b[39;00m \u001b[39mself\u001b[39;49m\u001b[39m.\u001b[39;49mrequest(\u001b[39m\"\u001b[39;49m\u001b[39mPOST\u001b[39;49m\u001b[39m\"\u001b[39;49m, url,\n\u001b[1;32m    266\u001b[0m                         headers\u001b[39m=\u001b[39;49mheaders,\n\u001b[1;32m    267\u001b[0m                         query_params\u001b[39m=\u001b[39;49mquery_params,\n\u001b[1;32m    268\u001b[0m                         post_params\u001b[39m=\u001b[39;49mpost_params,\n\u001b[1;32m    269\u001b[0m                         _preload_content\u001b[39m=\u001b[39;49m_preload_content,\n\u001b[1;32m    270\u001b[0m                         _request_timeout\u001b[39m=\u001b[39;49m_request_timeout,\n\u001b[1;32m    271\u001b[0m                         body\u001b[39m=\u001b[39;49mbody)\n",
      "File \u001b[0;32m/opt/homebrew/lib/python3.10/site-packages/kfp_server_api/rest.py:224\u001b[0m, in \u001b[0;36mRESTClientObject.request\u001b[0;34m(self, method, url, query_params, headers, body, post_params, _preload_content, _request_timeout)\u001b[0m\n\u001b[1;32m    221\u001b[0m     logger\u001b[39m.\u001b[39mdebug(\u001b[39m\"\u001b[39m\u001b[39mresponse body: \u001b[39m\u001b[39m%s\u001b[39;00m\u001b[39m\"\u001b[39m, r\u001b[39m.\u001b[39mdata)\n\u001b[1;32m    223\u001b[0m \u001b[39mif\u001b[39;00m \u001b[39mnot\u001b[39;00m \u001b[39m200\u001b[39m \u001b[39m<\u001b[39m\u001b[39m=\u001b[39m r\u001b[39m.\u001b[39mstatus \u001b[39m<\u001b[39m\u001b[39m=\u001b[39m \u001b[39m299\u001b[39m:\n\u001b[0;32m--> 224\u001b[0m     \u001b[39mraise\u001b[39;00m ApiException(http_resp\u001b[39m=\u001b[39mr)\n\u001b[1;32m    226\u001b[0m \u001b[39mreturn\u001b[39;00m r\n",
      "\u001b[0;31mApiException\u001b[0m: (500)\nReason: Internal Server Error\nHTTP response headers: HTTPHeaderDict({'x-powered-by': 'Express', 'content-type': 'application/json', 'date': 'Mon, 02 Jan 2023 01:55:31 GMT', 'content-length': '775', 'x-envoy-upstream-service-time': '102', 'server': 'istio-envoy'})\nHTTP response body: {\"error\":\"Failed to create a new run.: InternalServerError: Failed to store run mnist-c5qbc to table: Error 1366: Incorrect string value: '\\\\xEB\\\\x8D\\\\xB0\\\\xEC\\\\x9D\\\\xB4...' for column 'WorkflowRuntimeManifest' at row 1\",\"code\":13,\"message\":\"Failed to create a new run.: InternalServerError: Failed to store run mnist-c5qbc to table: Error 1366: Incorrect string value: '\\\\xEB\\\\x8D\\\\xB0\\\\xEC\\\\x9D\\\\xB4...' for column 'WorkflowRuntimeManifest' at row 1\",\"details\":[{\"@type\":\"type.googleapis.com/api.Error\",\"error_message\":\"Internal Server Error\",\"error_details\":\"Failed to create a new run.: InternalServerError: Failed to store run mnist-c5qbc to table: Error 1366: Incorrect string value: '\\\\xEB\\\\x8D\\\\xB0\\\\xEC\\\\x9D\\\\xB4...' for column 'WorkflowRuntimeManifest' at row 1\"}]}\n"
     ]
    }
   ],
   "source": [
    "client.run_pipeline(experiment_id=experiment.id,job_name=pipeline_name,pipeline_package_path=pipeline_package_path)"
   ]
  },
  {
   "cell_type": "code",
   "execution_count": null,
   "id": "513994c1-e1fa-4a80-ab1d-a3356aa33286",
   "metadata": {},
   "outputs": [],
   "source": []
  }
 ],
 "metadata": {
  "kernelspec": {
   "display_name": "Python 3",
   "language": "python",
   "name": "python3"
  },
  "language_info": {
   "codemirror_mode": {
    "name": "ipython",
    "version": 3
   },
   "file_extension": ".py",
   "mimetype": "text/x-python",
   "name": "python",
   "nbconvert_exporter": "python",
   "pygments_lexer": "ipython3",
   "version": "3.10.8"
  },
  "vscode": {
   "interpreter": {
    "hash": "b0fa6594d8f4cbf19f97940f81e996739fb7646882a419484c72d19e05852a7e"
   }
  }
 },
 "nbformat": 4,
 "nbformat_minor": 5
}
