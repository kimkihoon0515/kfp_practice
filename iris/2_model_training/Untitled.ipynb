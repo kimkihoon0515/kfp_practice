{
 "cells": [
  {
   "cell_type": "code",
   "execution_count": 10,
   "id": "179b9270-cd46-4947-9282-916ae6ecbd9f",
   "metadata": {},
   "outputs": [
    {
     "name": "stdout",
     "output_type": "stream",
     "text": [
      "(150, 6)\n",
      "shape of training data :  (120, 6)\n",
      "shape of testing data (30, 6)\n",
      "\n",
      "Accuracy Score on test data : \n",
      "1.0\n"
     ]
    }
   ],
   "source": [
    "import argparse\n",
    "import pandas as pd\n",
    "from sklearn.linear_model import LogisticRegression\n",
    "from sklearn.model_selection import train_test_split \n",
    "from sklearn.preprocessing import LabelEncoder\n",
    "from sklearn.metrics import accuracy_score\n",
    "import json\n",
    "\n",
    "def load_data(data):\n",
    "    iris = pd.read_csv(data, sep=',')\n",
    "    print(iris.shape)\n",
    "    return iris\n",
    "\n",
    "def get_train_test_data(iris):\n",
    "\n",
    "    encode = LabelEncoder()\n",
    "    iris.Species = encode.fit_transform(iris.Species)\n",
    "\n",
    "    train , test = train_test_split(iris, test_size=0.2, random_state=0)\n",
    "    print('shape of training data : ', train.shape)\n",
    "    print('shape of testing data', test.shape)\n",
    "\n",
    "\n",
    "    X_train = train.drop(columns=['Species'], axis=1)\n",
    "    y_train = train['Species']\n",
    "    X_test = test.drop(columns=['Species'], axis=1)\n",
    "    y_test = test['Species']\n",
    "\n",
    "    return X_train, X_test, y_train, y_test\n",
    "\n",
    "\n",
    "\n",
    "iris = './Iris.csv'\n",
    "iris = load_data(iris)\n",
    "\n",
    "X_train, X_test, y_train, y_test = get_train_test_data(iris)\n",
    "\n",
    "model = LogisticRegression(max_iter=5000)\n",
    "model.fit(X_train, y_train)\n",
    "predict = model.predict(X_test)\n",
    "print('\\nAccuracy Score on test data : ')\n",
    "print(accuracy_score(y_test, predict))\n"
   ]
  },
  {
   "cell_type": "code",
   "execution_count": 11,
   "id": "f2117275-b8c5-4ead-a112-7021d2230d7a",
   "metadata": {},
   "outputs": [],
   "source": [
    "def evaluation(y_test,predict):\n",
    "    print(\"accuracy : \",accuracy_score(y_test,predict))\n",
    "    \n",
    "    accuracy = accuracy_score(y_test,predict)\n",
    "    \n",
    "    metrics = {\n",
    "        'metrics': [{\n",
    "            'name': 'accuracy-score',\n",
    "            'nuberValue': accuracy,\n",
    "            'format': \"%\",\n",
    "        }]\n",
    "    }\n",
    "    \n",
    "    with open('./accuracy.json','w') as f:\n",
    "        json.dump(accuracy,f)\n",
    "    \n",
    "    with open('./mlpipeline-metrics.json','w') as f:\n",
    "        json.dump(metrics,f)"
   ]
  },
  {
   "cell_type": "code",
   "execution_count": 12,
   "id": "528116d4-3269-4e7a-9d3b-3ca5da1c69b5",
   "metadata": {},
   "outputs": [
    {
     "name": "stdout",
     "output_type": "stream",
     "text": [
      "accuracy :  1.0\n"
     ]
    }
   ],
   "source": [
    "evaluation(y_test,predict)"
   ]
  },
  {
   "cell_type": "code",
   "execution_count": null,
   "id": "b4f518d6-157a-4aac-a129-e60ee2d5aacf",
   "metadata": {},
   "outputs": [],
   "source": []
  }
 ],
 "metadata": {
  "kernelspec": {
   "display_name": "Python 3 (ipykernel)",
   "language": "python",
   "name": "python3"
  },
  "language_info": {
   "codemirror_mode": {
    "name": "ipython",
    "version": 3
   },
   "file_extension": ".py",
   "mimetype": "text/x-python",
   "name": "python",
   "nbconvert_exporter": "python",
   "pygments_lexer": "ipython3",
   "version": "3.8.10"
  }
 },
 "nbformat": 4,
 "nbformat_minor": 5
}
