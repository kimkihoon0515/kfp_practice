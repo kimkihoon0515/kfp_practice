{
 "cells": [
  {
   "cell_type": "code",
   "execution_count": 1,
   "id": "6a8756d2-ac0c-4a2e-891a-905a39229730",
   "metadata": {},
   "outputs": [
    {
     "ename": "NameError",
     "evalue": "name '__file__' is not defined",
     "output_type": "error",
     "traceback": [
      "\u001b[0;31m---------------------------------------------------------------------------\u001b[0m",
      "\u001b[0;31mNameError\u001b[0m                                 Traceback (most recent call last)",
      "Input \u001b[0;32mIn [1]\u001b[0m, in \u001b[0;36m<cell line: 51>\u001b[0;34m()\u001b[0m\n\u001b[1;32m     46\u001b[0m         print_op(\u001b[38;5;124mf\u001b[39m\u001b[38;5;124m\"\u001b[39m\u001b[38;5;124maccuracy는 \u001b[39m\u001b[38;5;132;01m{\u001b[39;00mml\u001b[38;5;241m.\u001b[39moutputs[\u001b[38;5;124m'\u001b[39m\u001b[38;5;124maccuracy\u001b[39m\u001b[38;5;124m'\u001b[39m]\u001b[38;5;132;01m}\u001b[39;00m\u001b[38;5;124m로 accuracy baseline인 \u001b[39m\u001b[38;5;132;01m{\u001b[39;00mbaseline\u001b[38;5;132;01m}\u001b[39;00m\u001b[38;5;124m보다 작다.\u001b[39m\u001b[38;5;124m\"\u001b[39m)\n\u001b[1;32m     50\u001b[0m \u001b[38;5;28;01mimport\u001b[39;00m \u001b[38;5;21;01mkfp\u001b[39;00m\u001b[38;5;21;01m.\u001b[39;00m\u001b[38;5;21;01mcompiler\u001b[39;00m \u001b[38;5;28;01mas\u001b[39;00m \u001b[38;5;21;01mcompiler\u001b[39;00m\n\u001b[0;32m---> 51\u001b[0m compiler\u001b[38;5;241m.\u001b[39mCompiler()\u001b[38;5;241m.\u001b[39mcompile(pipeline, \u001b[38;5;18;43m__file__\u001b[39;49m \u001b[38;5;241m+\u001b[39m \u001b[38;5;124m\"\u001b[39m\u001b[38;5;124m.tar.gz\u001b[39m\u001b[38;5;124m\"\u001b[39m)\n",
      "\u001b[0;31mNameError\u001b[0m: name '__file__' is not defined"
     ]
    }
   ],
   "source": [
    "import kfp\n",
    "import kfp.components as comp\n",
    "from kfp import dsl\n",
    "\n",
    "def print_op(msg):\n",
    "    \n",
    "    return dsl.ContainerOp(\n",
    "        name='Print',\n",
    "        command=['ehco',msg],\n",
    "    )\n",
    "\n",
    "\n",
    "\n",
    "@dsl.pipeline(\n",
    "    name='iris-train',\n",
    "    description='training iris-dataset demo'\n",
    ")\n",
    "\n",
    "def pipeline():\n",
    "    add_p = dsl.ContainerOp(\n",
    "        name=\"load iris data pipeline\",\n",
    "        arguments=[\n",
    "            '--data_path', './Iris.csv'\n",
    "        ],\n",
    "        file_outputs={'iris' : '/iris.csv'}\n",
    "    )\n",
    "\n",
    "    ml = dsl.ContainerOp(\n",
    "        name=\"training pipeline\",\n",
    "        arguments=[\n",
    "            '--data', add_p.outputs['iris']\n",
    "        ],\n",
    "        file_outputs={\n",
    "            'accuracy' : './accuracy.json',\n",
    "            'mlpipeline-metrics': './mlpipeline-metrics.json'\n",
    "        }\n",
    "    )\n",
    "\n",
    "    ml.after(add_p)\n",
    "    baseline = 0.7\n",
    "    \n",
    "    with dsl.Condition(ml.outputs['accuracy'] > baseline) as check_condition:\n",
    "        print_op(f\"accuracy는 {ml.outputs['accuracy']}로 accuracy baseline인 {baseline}보다 크다.\")\n",
    "    \n",
    "    with dsl.Condition(ml.outputs['accuracy'] < baseline) as check_condition:\n",
    "        print_op(f\"accuracy는 {ml.outputs['accuracy']}로 accuracy baseline인 {baseline}보다 작다.\")\n",
    "\n",
    "    \n",
    "\n",
    "import kfp.compiler as compiler\n",
    "compiler.Compiler().compile(pipeline, 'iris-pipeline' + \".tar.gz\")"
   ]
  }
 ],
 "metadata": {
  "kernelspec": {
   "display_name": "Python 3 (ipykernel)",
   "language": "python",
   "name": "python3"
  },
  "language_info": {
   "codemirror_mode": {
    "name": "ipython",
    "version": 3
   },
   "file_extension": ".py",
   "mimetype": "text/x-python",
   "name": "python",
   "nbconvert_exporter": "python",
   "pygments_lexer": "ipython3",
   "version": "3.8.10"
  }
 },
 "nbformat": 4,
 "nbformat_minor": 5
}
