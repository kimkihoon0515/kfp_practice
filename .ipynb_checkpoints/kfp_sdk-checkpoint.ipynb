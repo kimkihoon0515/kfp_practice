{
 "cells": [
  {
   "cell_type": "markdown",
   "id": "263158f8-d7ef-4382-91ae-4a1844e424ca",
   "metadata": {},
   "source": [
    "# Client 동기화"
   ]
  },
  {
   "cell_type": "code",
   "execution_count": 169,
   "id": "f7436d5e-fe19-4509-b2de-fdf5f2fc776c",
   "metadata": {},
   "outputs": [
    {
     "name": "stdout",
     "output_type": "stream",
     "text": [
      "[Demo] XGBoost - Iterative model training\n",
      "[Demo] TFX - Taxi tip prediction model trainer\n",
      "[Tutorial] Data passing in python components\n",
      "[Tutorial] DSL - Control structures\n",
      "kf_iris_pipeline\n",
      "http://172.17.0.12:8080/dex/auth/local/login?back=&state=d6u5pi5snk7gz634bwdikbkvm\n",
      "MTY3MjE0NTE0NXxOd3dBTkZSVU1reEdUa3hCVXpaVFVVZEJRVXcyVDBaRk5UWktOalZUV0VkWFVEWkhUVmszUlU5SU56ZFRWbFZOV2xnMlRrWklSRUU9fO8iggyT7WJR2__YsjhgPGBlGnYqS37qZE9cuWd41dJo\n"
     ]
    }
   ],
   "source": [
    "import kfp\n",
    "import requests\n",
    "\n",
    "USERNAME = \"user@example.com\"\n",
    "PASSWORD = \"12341234\"\n",
    "NAMESPACE = \"kubeflow-user-example-com\"\n",
    "HOST = \"http://172.17.0.12:8080\" # istio-ingressgateway pod ip:port\n",
    "\n",
    "session = requests.Session()\n",
    "response = session.get(HOST)\n",
    "\n",
    "headers = {\n",
    "    \"Content-Type\": \"application/x-www-form-urlencoded\",\n",
    "}\n",
    "\n",
    "data = {\"login\": \"user@example.com\", \"password\": \"12341234\"}\n",
    "session.post(response.url, headers=headers, data=data)\n",
    "session_cookie = session.cookies.get_dict()[\"authservice_session\"]\n",
    "\n",
    "client = kfp.Client(\n",
    "    host=f\"{HOST}/pipeline\",\n",
    "    namespace=f\"{NAMESPACE}\",\n",
    "    cookies=f\"authservice_session={session_cookie}\",\n",
    ")\n",
    "list_pipelines = client.list_pipelines()\n",
    "\n",
    "for i in range(list_pipelines.total_size):\n",
    "    print(list_pipelines.pipelines[i].name)\n",
    "print(response.url)\n",
    "print(session_cookie)"
   ]
  },
  {
   "cell_type": "code",
   "execution_count": 170,
   "id": "baae55e2-c478-4428-ae7c-99a77175b672",
   "metadata": {},
   "outputs": [
    {
     "data": {
      "text/plain": [
       "<kfp._client.Client at 0x406ad26c70>"
      ]
     },
     "execution_count": 170,
     "metadata": {},
     "output_type": "execute_result"
    }
   ],
   "source": [
    "client"
   ]
  },
  {
   "cell_type": "markdown",
   "id": "d610e44f-987e-40aa-b891-5d80c5150e63",
   "metadata": {},
   "source": [
    "# Experiment 정보 가져오기"
   ]
  },
  {
   "cell_type": "code",
   "execution_count": 171,
   "id": "06776e58-197a-42dd-bdb8-7143f0ce1e7a",
   "metadata": {},
   "outputs": [],
   "source": [
    "experiment_info = client.get_experiment(experiment_name=\"kf_iris_test\",namespace=NAMESPACE)"
   ]
  },
  {
   "cell_type": "code",
   "execution_count": 172,
   "id": "4e57a984-fa76-44bb-8762-d98910608396",
   "metadata": {},
   "outputs": [],
   "source": [
    "experiment_id = experiment_info.id"
   ]
  },
  {
   "cell_type": "markdown",
   "id": "81fbd226-b893-4604-923d-d946277645dd",
   "metadata": {},
   "source": [
    "# Experiment 삭제하기"
   ]
  },
  {
   "cell_type": "code",
   "execution_count": 173,
   "id": "73b36a58-5a0f-4d11-8eb1-1ccc5df3ca75",
   "metadata": {},
   "outputs": [
    {
     "data": {
      "text/plain": [
       "{}"
      ]
     },
     "execution_count": 173,
     "metadata": {},
     "output_type": "execute_result"
    }
   ],
   "source": [
    "client.delete_experiment(experiment_id=experiment_id)"
   ]
  },
  {
   "cell_type": "markdown",
   "id": "dbc04cd1-dfca-45c1-8c36-72384c3dcc1b",
   "metadata": {},
   "source": [
    "# Runs 삭제하기"
   ]
  },
  {
   "cell_type": "code",
   "execution_count": 177,
   "id": "e250abb2-d2d1-44bb-abec-7d6b9a7bba52",
   "metadata": {},
   "outputs": [],
   "source": [
    "for i in range(client.list_runs().total_size):\n",
    "    run_id = client.list_runs().runs[i].id\n",
    "    client.runs.delete_run(id=run_id)"
   ]
  },
  {
   "cell_type": "markdown",
   "id": "5594aae4-6ae0-48ba-8fe4-0081e94adf8d",
   "metadata": {},
   "source": [
    "## Pipeline Upload"
   ]
  },
  {
   "cell_type": "code",
   "execution_count": 189,
   "id": "9411a88b-fb8b-4529-90b0-6fdbc7fe19b9",
   "metadata": {},
   "outputs": [
    {
     "data": {
      "text/html": [
       "<a href=http://172.17.0.12:8080/pipeline/#/pipelines/details/7840a51b-7d10-4379-94f5-9c012f65a532>Pipeline details</a>."
      ],
      "text/plain": [
       "<IPython.core.display.HTML object>"
      ]
     },
     "metadata": {},
     "output_type": "display_data"
    },
    {
     "data": {
      "text/plain": [
       "{'created_at': datetime.datetime(2022, 12, 27, 13, 13, tzinfo=tzlocal()),\n",
       " 'default_version': {'code_source_url': None,\n",
       "                     'created_at': datetime.datetime(2022, 12, 27, 13, 13, tzinfo=tzlocal()),\n",
       "                     'id': '7840a51b-7d10-4379-94f5-9c012f65a532',\n",
       "                     'name': 'cheating-containerless',\n",
       "                     'package_url': None,\n",
       "                     'parameters': None,\n",
       "                     'resource_references': [{'key': {'id': '7840a51b-7d10-4379-94f5-9c012f65a532',\n",
       "                                                      'type': 'PIPELINE'},\n",
       "                                              'name': None,\n",
       "                                              'relationship': 'OWNER'}]},\n",
       " 'description': None,\n",
       " 'error': None,\n",
       " 'id': '7840a51b-7d10-4379-94f5-9c012f65a532',\n",
       " 'name': 'cheating-containerless',\n",
       " 'parameters': None,\n",
       " 'resource_references': None,\n",
       " 'url': None}"
      ]
     },
     "execution_count": 189,
     "metadata": {},
     "output_type": "execute_result"
    }
   ],
   "source": [
    "pipeline_package_path='kfp_practice/mnist-pipeline.yaml'\n",
    "pipeline_name='mnist-pipeline'\n",
    "client.upload_pipeline(pipeline_package_path=pipeline_package_path,pipeline_name=pipeline_name)"
   ]
  },
  {
   "cell_type": "markdown",
   "id": "134e7bde-452b-4df3-9e45-597d05fb7a44",
   "metadata": {},
   "source": [
    "# Experiment 생성"
   ]
  },
  {
   "cell_type": "code",
   "execution_count": 191,
   "id": "45150325-3463-4273-8d04-72f1e125c38e",
   "metadata": {},
   "outputs": [
    {
     "data": {
      "text/html": [
       "<a href=\"http://172.17.0.12:8080/pipeline/#/experiments/details/4dc0fef9-5ce7-4b07-bb0b-58de2d5b0e8f\" target=\"_blank\" >Experiment details</a>."
      ],
      "text/plain": [
       "<IPython.core.display.HTML object>"
      ]
     },
     "metadata": {},
     "output_type": "display_data"
    }
   ],
   "source": [
    "experiment = client.create_experiment(name=pipeline_name,description=pipeline_name,namespace=NAMESPACE)"
   ]
  },
  {
   "cell_type": "markdown",
   "id": "a1725b41-9866-4760-aef2-3dfef09689cc",
   "metadata": {},
   "source": [
    "## Run 생성"
   ]
  },
  {
   "cell_type": "code",
   "execution_count": 192,
   "id": "b639a024-05a0-4ba8-8c0b-c8c70f0c8b48",
   "metadata": {},
   "outputs": [
    {
     "data": {
      "text/html": [
       "<a href=\"http://172.17.0.12:8080/pipeline/#/runs/details/b831af3a-ea79-4514-8b17-df9462fedef9\" target=\"_blank\" >Run details</a>."
      ],
      "text/plain": [
       "<IPython.core.display.HTML object>"
      ]
     },
     "metadata": {},
     "output_type": "display_data"
    },
    {
     "data": {
      "text/plain": [
       "{'created_at': datetime.datetime(2022, 12, 27, 13, 28, 48, tzinfo=tzlocal()),\n",
       " 'description': None,\n",
       " 'error': None,\n",
       " 'finished_at': datetime.datetime(1970, 1, 1, 0, 0, tzinfo=tzlocal()),\n",
       " 'id': 'b831af3a-ea79-4514-8b17-df9462fedef9',\n",
       " 'metrics': None,\n",
       " 'name': 'cheating-containerless',\n",
       " 'pipeline_spec': {'parameters': None,\n",
       "                   'pipeline_id': None,\n",
       "                   'pipeline_manifest': None,\n",
       "                   'pipeline_name': None,\n",
       "                   'workflow_manifest': '{\"apiVersion\": '\n",
       "                                        '\"argoproj.io/v1alpha1\", \"kind\": '\n",
       "                                        '\"Workflow\", \"metadata\": '\n",
       "                                        '{\"generateName\": \"my-pipeline-\", '\n",
       "                                        '\"annotations\": '\n",
       "                                        '{\"pipelines.kubeflow.org/kfp_sdk_version\": '\n",
       "                                        '\"1.6.3\", '\n",
       "                                        '\"pipelines.kubeflow.org/pipeline_compilation_time\": '\n",
       "                                        '\"2022-12-27T13:04:24.970814\", '\n",
       "                                        '\"pipelines.kubeflow.org/pipeline_spec\": '\n",
       "                                        '\"{\\\\\"name\\\\\": \\\\\"my-pipeline\\\\\"}\"}, '\n",
       "                                        '\"labels\": '\n",
       "                                        '{\"pipelines.kubeflow.org/kfp_sdk_version\": '\n",
       "                                        '\"1.6.3\"}}, \"spec\": {\"entrypoint\": '\n",
       "                                        '\"my-pipeline\", \"templates\": [{\"name\": '\n",
       "                                        '\"for-loop-1\", \"inputs\": '\n",
       "                                        '{\"parameters\": [{\"name\": '\n",
       "                                        '\"gen-numbers-out-loop-item\"}]}, '\n",
       "                                        '\"dag\": {\"tasks\": [{\"name\": '\n",
       "                                        '\"my-item-print\", \"template\": '\n",
       "                                        '\"my-item-print\", \"arguments\": '\n",
       "                                        '{\"parameters\": [{\"name\": '\n",
       "                                        '\"gen-numbers-out-loop-item\", \"value\": '\n",
       "                                        '\"{{inputs.parameters.gen-numbers-out-loop-item}}\"}]}}]}}, '\n",
       "                                        '{\"name\": \"gen-numbers\", \"container\": '\n",
       "                                        '{\"args\": [\"python -c \\\\\"import '\n",
       "                                        'random; import json; import sys; '\n",
       "                                        'json.dump([i for i in range(20, 26)], '\n",
       "                                        'open(\\'/tmp/out.json\\', \\'w\\'))\\\\\"\"], '\n",
       "                                        '\"command\": [\"sh\", \"-c\"], \"image\": '\n",
       "                                        '\"python:alpine3.6\"}, \"outputs\": '\n",
       "                                        '{\"parameters\": [{\"name\": '\n",
       "                                        '\"gen-numbers-out\", \"valueFrom\": '\n",
       "                                        '{\"path\": \"/tmp/out.json\"}}], '\n",
       "                                        '\"artifacts\": [{\"name\": '\n",
       "                                        '\"gen-numbers-out\", \"path\": '\n",
       "                                        '\"/tmp/out.json\"}]}, \"metadata\": '\n",
       "                                        '{\"labels\": '\n",
       "                                        '{\"pipelines.kubeflow.org/kfp_sdk_version\": '\n",
       "                                        '\"1.6.3\", '\n",
       "                                        '\"pipelines.kubeflow.org/pipeline-sdk-type\": '\n",
       "                                        '\"kfp\"}}}, {\"name\": \"my-item-print\", '\n",
       "                                        '\"container\": {\"args\": [\"echo do '\n",
       "                                        'output op1 item: '\n",
       "                                        '{{inputs.parameters.gen-numbers-out-loop-item}}\"], '\n",
       "                                        '\"command\": [\"sh\", \"-c\"], \"image\": '\n",
       "                                        '\"library/bash:4.4.23\"}, \"inputs\": '\n",
       "                                        '{\"parameters\": [{\"name\": '\n",
       "                                        '\"gen-numbers-out-loop-item\"}]}, '\n",
       "                                        '\"metadata\": {\"labels\": '\n",
       "                                        '{\"pipelines.kubeflow.org/kfp_sdk_version\": '\n",
       "                                        '\"1.6.3\", '\n",
       "                                        '\"pipelines.kubeflow.org/pipeline-sdk-type\": '\n",
       "                                        '\"kfp\"}}}, {\"name\": \"my-pipeline\", '\n",
       "                                        '\"dag\": {\"tasks\": [{\"name\": '\n",
       "                                        '\"for-loop-1\", \"template\": '\n",
       "                                        '\"for-loop-1\", \"dependencies\": '\n",
       "                                        '[\"gen-numbers\"], \"arguments\": '\n",
       "                                        '{\"parameters\": [{\"name\": '\n",
       "                                        '\"gen-numbers-out-loop-item\", \"value\": '\n",
       "                                        '\"{{item}}\"}]}, \"withParam\": '\n",
       "                                        '\"{{tasks.gen-numbers.outputs.parameters.gen-numbers-out}}\"}, '\n",
       "                                        '{\"name\": \"gen-numbers\", \"template\": '\n",
       "                                        '\"gen-numbers\"}, {\"name\": \"total\", '\n",
       "                                        '\"template\": \"total\", \"dependencies\": '\n",
       "                                        '[\"gen-numbers\"], \"arguments\": '\n",
       "                                        '{\"parameters\": [{\"name\": '\n",
       "                                        '\"gen-numbers-out\", \"value\": '\n",
       "                                        '\"{{tasks.gen-numbers.outputs.parameters.gen-numbers-out}}\"}]}}]}}, '\n",
       "                                        '{\"name\": \"total\", \"container\": '\n",
       "                                        '{\"args\": [\"echo output gen-numbers: '\n",
       "                                        '{{inputs.parameters.gen-numbers-out}} '\n",
       "                                        '&& python -c '\n",
       "                                        '\\\\\"print(sum({{inputs.parameters.gen-numbers-out}}))\\\\\"\"], '\n",
       "                                        '\"command\": [\"sh\", \"-c\"], \"image\": '\n",
       "                                        '\"python:alpine3.6\"}, \"inputs\": '\n",
       "                                        '{\"parameters\": [{\"name\": '\n",
       "                                        '\"gen-numbers-out\"}]}, \"metadata\": '\n",
       "                                        '{\"labels\": '\n",
       "                                        '{\"pipelines.kubeflow.org/kfp_sdk_version\": '\n",
       "                                        '\"1.6.3\", '\n",
       "                                        '\"pipelines.kubeflow.org/pipeline-sdk-type\": '\n",
       "                                        '\"kfp\"}}}], \"arguments\": '\n",
       "                                        '{\"parameters\": []}, '\n",
       "                                        '\"serviceAccountName\": '\n",
       "                                        '\"pipeline-runner\"}}'},\n",
       " 'resource_references': [{'key': {'id': '4dc0fef9-5ce7-4b07-bb0b-58de2d5b0e8f',\n",
       "                                  'type': 'EXPERIMENT'},\n",
       "                          'name': 'cheating-containerless',\n",
       "                          'relationship': 'OWNER'}],\n",
       " 'scheduled_at': datetime.datetime(2022, 12, 27, 13, 28, 48, tzinfo=tzlocal()),\n",
       " 'service_account': 'default-editor',\n",
       " 'status': None,\n",
       " 'storage_state': None}"
      ]
     },
     "execution_count": 192,
     "metadata": {},
     "output_type": "execute_result"
    }
   ],
   "source": [
    "client.run_pipeline(experiment_id=experiment.id,job_name=pipeline_name,pipeline_package_path=pipeline_package_path)"
   ]
  },
  {
   "cell_type": "code",
   "execution_count": null,
   "id": "513994c1-e1fa-4a80-ab1d-a3356aa33286",
   "metadata": {},
   "outputs": [],
   "source": []
  }
 ],
 "metadata": {
  "kernelspec": {
   "display_name": "Python 3 (ipykernel)",
   "language": "python",
   "name": "python3"
  },
  "language_info": {
   "codemirror_mode": {
    "name": "ipython",
    "version": 3
   },
   "file_extension": ".py",
   "mimetype": "text/x-python",
   "name": "python",
   "nbconvert_exporter": "python",
   "pygments_lexer": "ipython3",
   "version": "3.8.10"
  }
 },
 "nbformat": 4,
 "nbformat_minor": 5
}
